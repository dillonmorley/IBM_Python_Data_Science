{
 "cells": [
  {
   "cell_type": "markdown",
   "metadata": {
    "collapsed": true
   },
   "source": [
    "## Problem Set II: Identify Areas Most Affected by The Top Complaint Type\n",
    "### Reserach Question: Should the Department of Housing Preservation and Development of New York City focus on any particular set of boroughs, ZIP codes, or street (where the complaints are severe) for the specific type of complaints you identified in response to Question 1?\n",
    "\n",
    "By: Dillon Morley"
   ]
  },
  {
   "cell_type": "code",
   "execution_count": 5,
   "metadata": {},
   "outputs": [
    {
     "data": {
      "text/html": [
       "<div>\n",
       "<style scoped>\n",
       "    .dataframe tbody tr th:only-of-type {\n",
       "        vertical-align: middle;\n",
       "    }\n",
       "\n",
       "    .dataframe tbody tr th {\n",
       "        vertical-align: top;\n",
       "    }\n",
       "\n",
       "    .dataframe thead th {\n",
       "        text-align: right;\n",
       "    }\n",
       "</style>\n",
       "<table border=\"1\" class=\"dataframe\">\n",
       "  <thead>\n",
       "    <tr style=\"text-align: right;\">\n",
       "      <th></th>\n",
       "      <th>Unnamed: 0</th>\n",
       "      <th>Unique Key</th>\n",
       "      <th>Created Date</th>\n",
       "      <th>Closed Date</th>\n",
       "      <th>Complaint Type</th>\n",
       "      <th>Location Type</th>\n",
       "      <th>Incident Zip</th>\n",
       "      <th>Incident Address</th>\n",
       "      <th>Street Name</th>\n",
       "      <th>Address Type</th>\n",
       "      <th>City</th>\n",
       "      <th>Status</th>\n",
       "      <th>Resolution Description</th>\n",
       "      <th>Borough</th>\n",
       "      <th>Latitude</th>\n",
       "      <th>Longitude</th>\n",
       "    </tr>\n",
       "  </thead>\n",
       "  <tbody>\n",
       "    <tr>\n",
       "      <th>0</th>\n",
       "      <td>0</td>\n",
       "      <td>45531130</td>\n",
       "      <td>02/02/2020 06:09:17 AM</td>\n",
       "      <td>NaN</td>\n",
       "      <td>HEAT/HOT WATER</td>\n",
       "      <td>RESIDENTIAL BUILDING</td>\n",
       "      <td>10019.0</td>\n",
       "      <td>426 WEST   52 STREET</td>\n",
       "      <td>WEST   52 STREET</td>\n",
       "      <td>ADDRESS</td>\n",
       "      <td>NEW YORK</td>\n",
       "      <td>Open</td>\n",
       "      <td>The following complaint conditions are still o...</td>\n",
       "      <td>MANHATTAN</td>\n",
       "      <td>40.765132</td>\n",
       "      <td>-73.988993</td>\n",
       "    </tr>\n",
       "    <tr>\n",
       "      <th>1</th>\n",
       "      <td>1</td>\n",
       "      <td>45529784</td>\n",
       "      <td>02/02/2020 02:15:24 PM</td>\n",
       "      <td>NaN</td>\n",
       "      <td>UNSANITARY CONDITION</td>\n",
       "      <td>RESIDENTIAL BUILDING</td>\n",
       "      <td>11204.0</td>\n",
       "      <td>1751 67 STREET</td>\n",
       "      <td>67 STREET</td>\n",
       "      <td>ADDRESS</td>\n",
       "      <td>BROOKLYN</td>\n",
       "      <td>Open</td>\n",
       "      <td>The following complaint conditions are still o...</td>\n",
       "      <td>BROOKLYN</td>\n",
       "      <td>40.618484</td>\n",
       "      <td>-73.992673</td>\n",
       "    </tr>\n",
       "    <tr>\n",
       "      <th>2</th>\n",
       "      <td>2</td>\n",
       "      <td>45527528</td>\n",
       "      <td>02/02/2020 02:27:41 AM</td>\n",
       "      <td>NaN</td>\n",
       "      <td>HEAT/HOT WATER</td>\n",
       "      <td>RESIDENTIAL BUILDING</td>\n",
       "      <td>11372.0</td>\n",
       "      <td>87-15 37 AVENUE</td>\n",
       "      <td>37 AVENUE</td>\n",
       "      <td>ADDRESS</td>\n",
       "      <td>Jackson Heights</td>\n",
       "      <td>Open</td>\n",
       "      <td>The following complaint conditions are still o...</td>\n",
       "      <td>QUEENS</td>\n",
       "      <td>40.750269</td>\n",
       "      <td>-73.879432</td>\n",
       "    </tr>\n",
       "    <tr>\n",
       "      <th>3</th>\n",
       "      <td>3</td>\n",
       "      <td>45530329</td>\n",
       "      <td>02/02/2020 12:13:18 PM</td>\n",
       "      <td>NaN</td>\n",
       "      <td>HEAT/HOT WATER</td>\n",
       "      <td>RESIDENTIAL BUILDING</td>\n",
       "      <td>10458.0</td>\n",
       "      <td>2405 SOUTHERN BOULEVARD</td>\n",
       "      <td>SOUTHERN BOULEVARD</td>\n",
       "      <td>ADDRESS</td>\n",
       "      <td>BRONX</td>\n",
       "      <td>Open</td>\n",
       "      <td>The following complaint conditions are still o...</td>\n",
       "      <td>BRONX</td>\n",
       "      <td>40.853773</td>\n",
       "      <td>-73.881558</td>\n",
       "    </tr>\n",
       "    <tr>\n",
       "      <th>4</th>\n",
       "      <td>4</td>\n",
       "      <td>45528814</td>\n",
       "      <td>02/02/2020 01:59:44 PM</td>\n",
       "      <td>NaN</td>\n",
       "      <td>APPLIANCE</td>\n",
       "      <td>RESIDENTIAL BUILDING</td>\n",
       "      <td>11209.0</td>\n",
       "      <td>223 78 STREET</td>\n",
       "      <td>78 STREET</td>\n",
       "      <td>ADDRESS</td>\n",
       "      <td>BROOKLYN</td>\n",
       "      <td>Open</td>\n",
       "      <td>The following complaint conditions are still o...</td>\n",
       "      <td>BROOKLYN</td>\n",
       "      <td>40.629745</td>\n",
       "      <td>-74.030533</td>\n",
       "    </tr>\n",
       "  </tbody>\n",
       "</table>\n",
       "</div>"
      ],
      "text/plain": [
       "   Unnamed: 0  Unique Key            Created Date Closed Date  \\\n",
       "0           0    45531130  02/02/2020 06:09:17 AM         NaN   \n",
       "1           1    45529784  02/02/2020 02:15:24 PM         NaN   \n",
       "2           2    45527528  02/02/2020 02:27:41 AM         NaN   \n",
       "3           3    45530329  02/02/2020 12:13:18 PM         NaN   \n",
       "4           4    45528814  02/02/2020 01:59:44 PM         NaN   \n",
       "\n",
       "         Complaint Type         Location Type  Incident Zip  \\\n",
       "0        HEAT/HOT WATER  RESIDENTIAL BUILDING       10019.0   \n",
       "1  UNSANITARY CONDITION  RESIDENTIAL BUILDING       11204.0   \n",
       "2        HEAT/HOT WATER  RESIDENTIAL BUILDING       11372.0   \n",
       "3        HEAT/HOT WATER  RESIDENTIAL BUILDING       10458.0   \n",
       "4             APPLIANCE  RESIDENTIAL BUILDING       11209.0   \n",
       "\n",
       "          Incident Address         Street Name Address Type             City  \\\n",
       "0     426 WEST   52 STREET    WEST   52 STREET      ADDRESS         NEW YORK   \n",
       "1           1751 67 STREET           67 STREET      ADDRESS         BROOKLYN   \n",
       "2          87-15 37 AVENUE           37 AVENUE      ADDRESS  Jackson Heights   \n",
       "3  2405 SOUTHERN BOULEVARD  SOUTHERN BOULEVARD      ADDRESS            BRONX   \n",
       "4            223 78 STREET           78 STREET      ADDRESS         BROOKLYN   \n",
       "\n",
       "  Status                             Resolution Description    Borough  \\\n",
       "0   Open  The following complaint conditions are still o...  MANHATTAN   \n",
       "1   Open  The following complaint conditions are still o...   BROOKLYN   \n",
       "2   Open  The following complaint conditions are still o...     QUEENS   \n",
       "3   Open  The following complaint conditions are still o...      BRONX   \n",
       "4   Open  The following complaint conditions are still o...   BROOKLYN   \n",
       "\n",
       "    Latitude  Longitude  \n",
       "0  40.765132 -73.988993  \n",
       "1  40.618484 -73.992673  \n",
       "2  40.750269 -73.879432  \n",
       "3  40.853773 -73.881558  \n",
       "4  40.629745 -74.030533  "
      ]
     },
     "execution_count": 5,
     "metadata": {},
     "output_type": "execute_result"
    }
   ],
   "source": [
    "#Import Our Libraries\n",
    "import os, types\n",
    "import pandas as pd\n",
    "from botocore.client import Config\n",
    "import ibm_boto3\n",
    "\n",
    "def __iter__(self): return 0\n",
    "\n",
    "# @hidden_cell\n",
    "# The following code accesses a file in your IBM Cloud Object Storage. It includes your credentials.\n",
    "# You might want to remove those credentials before you share the notebook.\n",
    "\n",
    "if os.environ.get('RUNTIME_ENV_LOCATION_TYPE') == 'external':\n",
    "    endpoint_256cc9b3022041aeadc6f49afe94561b = 'https://s3.eu-geo.objectstorage.softlayer.net'\n",
    "else:\n",
    "    endpoint_256cc9b3022041aeadc6f49afe94561b = 'https://s3.eu-geo.objectstorage.service.networklayer.com'\n",
    "\n",
    "client_256cc9b3022041aeadc6f49afe94561b = ibm_boto3.client(service_name='s3',\n",
    "    ibm_api_key_id='YvikRX53gzO8fvVreirDv5kHBltvbjmlUf5OWEVD7aSn',\n",
    "    ibm_auth_endpoint=\"https://iam.cloud.ibm.com/oidc/token\",\n",
    "    config=Config(signature_version='oauth'),\n",
    "    endpoint_url=endpoint_256cc9b3022041aeadc6f49afe94561b)\n",
    "\n",
    "body = client_256cc9b3022041aeadc6f49afe94561b.get_object(Bucket='ibmpythondatasciencecapstone-donotdelete-pr-8kcbvnietwxfim',Key='311_Service_Requests_from_2010_to_Present_min.csv')['Body']\n",
    "# add missing __iter__ method, so pandas accepts body as file-like object\n",
    "if not hasattr(body, \"__iter__\"): body.__iter__ = types.MethodType( __iter__, body )\n",
    "\n",
    "service_requests = pd.read_csv(body)\n",
    "service_requests.head()\n"
   ]
  },
  {
   "cell_type": "code",
   "execution_count": 6,
   "metadata": {},
   "outputs": [
    {
     "name": "stdout",
     "output_type": "stream",
     "text": [
      "These are are updated values for our complaint type column: ['HEAT/HOT WATER' 'UNSANITARY CONDITION' 'APPLIANCE' 'GENERAL' 'ELECTRIC'\n",
      " 'PLUMBING' 'PAINT/PLASTER' 'WATER LEAK' 'SAFETY' 'DOOR/WINDOW'\n",
      " 'OUTSIDE BUILDING' 'ELEVATOR' 'FLOORING/STAIRS' 'HPD LITERATURE REQUEST'\n",
      " 'HEATING' 'GENERAL CONSTRUCTION' 'NONCONST' 'CONSTRUCTION' 'AGENCY'\n",
      " 'STRUCTURAL' 'VACANT APARTMENT' 'MOLD']\n"
     ]
    }
   ],
   "source": [
    "#Function used to change the different column names to a standardized format.\n",
    "def format_dataframe():\n",
    "    service_requests.loc[service_requests['Complaint Type'] == 'PAINT - PLASTER'] = 'PAINT/PLASTER'\n",
    "    service_requests.loc[service_requests['Complaint Type'] == 'Plumbing'] = 'PLUMBING'\n",
    "    service_requests.loc[service_requests['Complaint Type'] == 'Electric'] = 'ELECTRIC'\n",
    "    service_requests.loc[service_requests['Complaint Type'] == 'General'] = 'GENERAL'\n",
    "    service_requests.loc[service_requests['Complaint Type'] == 'Safety'] = 'SAFETY'\n",
    "    service_requests.loc[service_requests['Complaint Type'] == 'Appliance'] = 'APPLIANCE'\n",
    "    service_requests.loc[service_requests['Complaint Type'] == 'Unsanitary Condition'] = 'UNSANITARY CONDITION'\n",
    "    service_requests.loc[service_requests['Complaint Type'] == 'Outside Building'] = 'OUTSIDE BUILDING'\n",
    "    service_requests.loc[service_requests['Complaint Type'] == 'HPD Literature Request'] = 'HPD LITERATURE REQUEST'\n",
    "    service_requests.loc[service_requests['Complaint Type'] == 'Mold'] = 'MOLD'\n",
    "    \n",
    "format_dataframe()\n",
    "\n",
    "print('These are are updated values for our complaint type column:',service_requests['Complaint Type'].unique())"
   ]
  },
  {
   "cell_type": "markdown",
   "metadata": {},
   "source": [
    "### Question 1: For the complaint types that you selected in the previous module that had at least 800,000 complaints logged, which borough had the highest number of complaints submitted?"
   ]
  },
  {
   "cell_type": "code",
   "execution_count": 13,
   "metadata": {},
   "outputs": [
    {
     "name": "stdout",
     "output_type": "stream",
     "text": [
      "  Unnamed: 0 Unique Key            Created Date Closed Date  Complaint Type  \\\n",
      "0          0   45531130  02/02/2020 06:09:17 AM         NaN  HEAT/HOT WATER   \n",
      "2          2   45527528  02/02/2020 02:27:41 AM         NaN  HEAT/HOT WATER   \n",
      "3          3   45530329  02/02/2020 12:13:18 PM         NaN  HEAT/HOT WATER   \n",
      "5          5   45530344  02/02/2020 07:52:08 AM         NaN  HEAT/HOT WATER   \n",
      "7          7   45527939  02/02/2020 09:00:54 AM         NaN  HEAT/HOT WATER   \n",
      "\n",
      "          Location Type Incident Zip         Incident Address  \\\n",
      "0  RESIDENTIAL BUILDING        10019     426 WEST   52 STREET   \n",
      "2  RESIDENTIAL BUILDING        11372          87-15 37 AVENUE   \n",
      "3  RESIDENTIAL BUILDING        10458  2405 SOUTHERN BOULEVARD   \n",
      "5  RESIDENTIAL BUILDING        10456       1131 MORRIS AVENUE   \n",
      "7  RESIDENTIAL BUILDING        11372          37-20 81 STREET   \n",
      "\n",
      "          Street Name Address Type             City Status  \\\n",
      "0    WEST   52 STREET      ADDRESS         NEW YORK   Open   \n",
      "2           37 AVENUE      ADDRESS  Jackson Heights   Open   \n",
      "3  SOUTHERN BOULEVARD      ADDRESS            BRONX   Open   \n",
      "5       MORRIS AVENUE      ADDRESS            BRONX   Open   \n",
      "7           81 STREET      ADDRESS  Jackson Heights   Open   \n",
      "\n",
      "                              Resolution Description    Borough Latitude  \\\n",
      "0  The following complaint conditions are still o...  MANHATTAN  40.7651   \n",
      "2  The following complaint conditions are still o...     QUEENS  40.7503   \n",
      "3  The following complaint conditions are still o...      BRONX  40.8538   \n",
      "5  The following complaint conditions are still o...      BRONX  40.8314   \n",
      "7  The following complaint conditions are still o...     QUEENS  40.7493   \n",
      "\n",
      "  Longitude  \n",
      "0   -73.989  \n",
      "2  -73.8794  \n",
      "3  -73.8816  \n",
      "5  -73.9152  \n",
      "7  -73.8852  \n",
      "       Unnamed: 0 Unique Key            Created Date             Closed Date  \\\n",
      "159160     159160   23430619  06/15/2012 12:00:00 AM  06/15/2012 12:00:00 AM   \n",
      "159161     159161   23427181  06/15/2012 12:00:00 AM  06/24/2012 12:00:00 AM   \n",
      "159162     159162   23426261  06/15/2012 12:00:00 AM  06/16/2012 12:00:00 AM   \n",
      "159163     159163   23411433  06/13/2012 12:00:00 AM  06/16/2012 12:00:00 AM   \n",
      "159164     159164   23406152  06/12/2012 12:00:00 AM  06/13/2012 12:00:00 AM   \n",
      "\n",
      "       Complaint Type         Location Type Incident Zip     Incident Address  \\\n",
      "159160        HEATING  RESIDENTIAL BUILDING        10034    97 SHERMAN AVENUE   \n",
      "159161        HEATING  RESIDENTIAL BUILDING        10034    97 SHERMAN AVENUE   \n",
      "159162        HEATING  RESIDENTIAL BUILDING        10025  227 WEST 109 STREET   \n",
      "159163        HEATING  RESIDENTIAL BUILDING        11221    568 QUINCY STREET   \n",
      "159164        HEATING  RESIDENTIAL BUILDING        10034    97 SHERMAN AVENUE   \n",
      "\n",
      "            Street Name Address Type      City  Status  \\\n",
      "159160   SHERMAN AVENUE      ADDRESS  NEW YORK  Closed   \n",
      "159161   SHERMAN AVENUE      ADDRESS  NEW YORK  Closed   \n",
      "159162  WEST 109 STREET      ADDRESS  NEW YORK  Closed   \n",
      "159163    QUINCY STREET      ADDRESS  BROOKLYN  Closed   \n",
      "159164   SHERMAN AVENUE      ADDRESS  NEW YORK  Closed   \n",
      "\n",
      "                                   Resolution Description    Borough Latitude  \\\n",
      "159160  The Department of Housing Preservation and Dev...  MANHATTAN  40.8638   \n",
      "159161  The Department of Housing Preservation and Dev...  MANHATTAN  40.8638   \n",
      "159162  More than one complaint was received for this ...  MANHATTAN  40.8028   \n",
      "159163  The Department of Housing Preservation and Dev...   BROOKLYN  40.6884   \n",
      "159164  More than one complaint was received for this ...  MANHATTAN  40.8638   \n",
      "\n",
      "       Longitude  \n",
      "159160  -73.9254  \n",
      "159161  -73.9254  \n",
      "159162  -73.9652  \n",
      "159163  -73.9378  \n",
      "159164  -73.9254  \n"
     ]
    }
   ],
   "source": [
    "hot_water = service_requests.loc[service_requests['Complaint Type']=='HEAT/HOT WATER'] #Creating a dataframe for HEAT/HOT WATER complaints\n",
    "print(hot_water.head(5))\n",
    "heating = service_requests.loc[service_requests['Complaint Type']=='HEATING'] #Creating a dataframe for HEATING complaints\n",
    "print(heating.head(5))"
   ]
  },
  {
   "cell_type": "markdown",
   "metadata": {},
   "source": [
    "### Next step is to merge these two dataframes so we can see the combined dataframe for our top two complaints."
   ]
  },
  {
   "cell_type": "code",
   "execution_count": 15,
   "metadata": {},
   "outputs": [
    {
     "name": "stdout",
     "output_type": "stream",
     "text": [
      "   Unnamed: 0  Unique Key            Created Date Closed Date  Complaint Type  \\\n",
      "0         0.0  45531130.0  02/02/2020 06:09:17 AM         NaN  HEAT/HOT WATER   \n",
      "1         2.0  45527528.0  02/02/2020 02:27:41 AM         NaN  HEAT/HOT WATER   \n",
      "2         3.0  45530329.0  02/02/2020 12:13:18 PM         NaN  HEAT/HOT WATER   \n",
      "3         5.0  45530344.0  02/02/2020 07:52:08 AM         NaN  HEAT/HOT WATER   \n",
      "4         7.0  45527939.0  02/02/2020 09:00:54 AM         NaN  HEAT/HOT WATER   \n",
      "\n",
      "          Location Type  Incident Zip         Incident Address  \\\n",
      "0  RESIDENTIAL BUILDING       10019.0     426 WEST   52 STREET   \n",
      "1  RESIDENTIAL BUILDING       11372.0          87-15 37 AVENUE   \n",
      "2  RESIDENTIAL BUILDING       10458.0  2405 SOUTHERN BOULEVARD   \n",
      "3  RESIDENTIAL BUILDING       10456.0       1131 MORRIS AVENUE   \n",
      "4  RESIDENTIAL BUILDING       11372.0          37-20 81 STREET   \n",
      "\n",
      "          Street Name Address Type             City Status  \\\n",
      "0    WEST   52 STREET      ADDRESS         NEW YORK   Open   \n",
      "1           37 AVENUE      ADDRESS  Jackson Heights   Open   \n",
      "2  SOUTHERN BOULEVARD      ADDRESS            BRONX   Open   \n",
      "3       MORRIS AVENUE      ADDRESS            BRONX   Open   \n",
      "4           81 STREET      ADDRESS  Jackson Heights   Open   \n",
      "\n",
      "                              Resolution Description    Borough   Latitude  \\\n",
      "0  The following complaint conditions are still o...  MANHATTAN  40.765132   \n",
      "1  The following complaint conditions are still o...     QUEENS  40.750269   \n",
      "2  The following complaint conditions are still o...      BRONX  40.853773   \n",
      "3  The following complaint conditions are still o...      BRONX  40.831381   \n",
      "4  The following complaint conditions are still o...     QUEENS  40.749320   \n",
      "\n",
      "   Longitude  \n",
      "0 -73.988993  \n",
      "1 -73.879432  \n",
      "2 -73.881558  \n",
      "3 -73.915218  \n",
      "4 -73.885190  \n"
     ]
    }
   ],
   "source": [
    "#Creates our merged dataframe and prints out the first 5 rows.\n",
    "top_complaints = pd.merge(hot_water,heating,how='outer')\n",
    "print(top_complaints.head(5))"
   ]
  },
  {
   "cell_type": "markdown",
   "metadata": {},
   "source": [
    "### Now we can use our value_counts( ) function to find the number of complaints from each borough in New York City.\n",
    "As you can see the Bronx had the most complaints about Heating or Hot Water (606,123 complaints)."
   ]
  },
  {
   "cell_type": "code",
   "execution_count": 25,
   "metadata": {},
   "outputs": [
    {
     "name": "stdout",
     "output_type": "stream",
     "text": [
      "The Bronx had the most complaints about Heating or Hot Water with 606133 complaints.\n",
      "BRONX            606133\n",
      "BROOKLYN         574845\n",
      "MANHATTAN        423039\n",
      "Unspecified      282917\n",
      "QUEENS           244122\n",
      "STATEN ISLAND     18368\n",
      "Name: Borough, dtype: int64\n"
     ]
    }
   ],
   "source": [
    "borough_complaints = top_complaints['Borough'].value_counts()\n",
    "print('The Bronx had the most complaints about Heating or Hot Water with',borough_complaints[0],'complaints.')\n",
    "print(borough_complaints)"
   ]
  },
  {
   "cell_type": "markdown",
   "metadata": {},
   "source": [
    "### Question 2: For the complaint types that you selected in the previous module that had a total number that exceeded 800,000 complaints, which borough had the lowest number of complaints submitted?\n",
    "Using the code above, we can easily see that Staten Island had the least amount of complaints about Heating or Hot Water (18,368 complaints)."
   ]
  },
  {
   "cell_type": "code",
   "execution_count": 27,
   "metadata": {},
   "outputs": [
    {
     "name": "stdout",
     "output_type": "stream",
     "text": [
      "Staten Island had the least amount of complaints about Heating or Hot Water with 18368 complaints.\n",
      "BRONX            606133\n",
      "BROOKLYN         574845\n",
      "MANHATTAN        423039\n",
      "Unspecified      282917\n",
      "QUEENS           244122\n",
      "STATEN ISLAND     18368\n",
      "Name: Borough, dtype: int64\n"
     ]
    }
   ],
   "source": [
    "print('Staten Island had the least amount of complaints about Heating or Hot Water with',borough_complaints[5],'complaints.')\n",
    "print(borough_complaints)"
   ]
  },
  {
   "cell_type": "markdown",
   "metadata": {},
   "source": [
    "### Question 3: For the complaint types that you selected in the previous module that had at least 800,000 complaints logged, which ZIP code had the highest number of complainted submitted?\n",
    "Using our merged dataframe and our value_counts( ) function we can easily find which zip code had the highest number of complaints submitted. First we need to convert our Incident Zip column to an integer type. However, there are NA values in our Zip Code column so we need to change those before converting our zip codes to an integer type."
   ]
  },
  {
   "cell_type": "code",
   "execution_count": 43,
   "metadata": {},
   "outputs": [
    {
     "name": "stdout",
     "output_type": "stream",
     "text": [
      "The zip code with the most complaints was 11226 with 19024 complaints.\n",
      "11226    69041\n",
      "10467    66073\n",
      "10458    65372\n",
      "10468    58190\n",
      "10453    57818\n",
      "         ...  \n",
      "10112        1\n",
      "10121        1\n",
      "10129        1\n",
      "10045        1\n",
      "10103        1\n",
      "Name: Incident Zip, Length: 194, dtype: int64\n"
     ]
    }
   ],
   "source": [
    "top_complaints['Incident Zip'] = top_complaints['Incident Zip'].fillna(0) #Changes all the NA values to 0\n",
    "top_complaints['Incident Zip'] = top_complaints['Incident Zip'].astype(int) #Changes all of our zip codes from float to integer type\n",
    "zip_code_complaints = top_complaints['Incident Zip'].value_counts()\n",
    "print('The zip code with the most complaints was 11226 with', zip_code_complaints[0],'complaints.')\n",
    "print(zip_code_complaints)"
   ]
  },
  {
   "cell_type": "markdown",
   "metadata": {},
   "source": [
    "### Question 4: T or F: For the complaint types that you selected in the previous module that had at least 800,000 complaints logged, the address 89-21 Elmhurst Avenue had the highest number of complainted submitted?"
   ]
  },
  {
   "cell_type": "markdown",
   "metadata": {},
   "source": [
    "Using our merged dataframe and value_counts( ) we can easily find the street name that had the highest number of complaints submitted in our dataset."
   ]
  },
  {
   "cell_type": "code",
   "execution_count": 48,
   "metadata": {},
   "outputs": [
    {
     "name": "stdout",
     "output_type": "stream",
     "text": [
      "The address that filed the most complaints was 34 Arden Street with 13858 complaints filed.\n",
      "34 ARDEN STREET           13858\n",
      "89-21 ELMHURST AVENUE     11548\n",
      "3810 BAILEY AVENUE         7115\n",
      "1025 BOYNTON AVENUE        5785\n",
      "9511 SHORE ROAD            5006\n",
      "                          ...  \n",
      "2001 EAST 24 STREET           1\n",
      "636 HOWARD AVENUE             1\n",
      "110 BRIGHTON 11 STREET        1\n",
      "1641 CASTLETON AVENUE         1\n",
      "159-09 84 AVENUE              1\n",
      "Name: Incident Address, Length: 136949, dtype: int64\n"
     ]
    }
   ],
   "source": [
    "address_complaints = top_complaints['Incident Address'].value_counts()\n",
    "print('The address that filed the most complaints was 34 Arden Street with',address_complaints[0],'complaints filed.')\n",
    "print(address_complaints)"
   ]
  },
  {
   "cell_type": "markdown",
   "metadata": {},
   "source": [
    "The answer to question 4 is false. As you can see, the address: 34 Arden Street has the most complaints submitted in our dataset."
   ]
  },
  {
   "cell_type": "markdown",
   "metadata": {},
   "source": [
    "### Question 5: For the complaint types that you selected in the previous module that had at least 800,000 complaints logged, how many of the submitted tickets were closed?"
   ]
  },
  {
   "cell_type": "markdown",
   "metadata": {},
   "source": [
    "Using our merged dataframe and value_counts() function, we can easily find the rows where submitted tickets = closed. "
   ]
  },
  {
   "cell_type": "code",
   "execution_count": 55,
   "metadata": {},
   "outputs": [
    {
     "name": "stdout",
     "output_type": "stream",
     "text": [
      "There were 2133331 closed complaints.\n",
      "Closed     2133331\n",
      "Open         16091\n",
      "Pending          2\n",
      "Name: Status, dtype: int64\n"
     ]
    }
   ],
   "source": [
    "results = top_complaints['Status'].value_counts()\n",
    "print('There were',results[0],'closed complaints.')\n",
    "print(results)"
   ]
  }
 ],
 "metadata": {
  "kernelspec": {
   "display_name": "Python 3.7",
   "language": "python",
   "name": "python3"
  },
  "language_info": {
   "codemirror_mode": {
    "name": "ipython",
    "version": 3
   },
   "file_extension": ".py",
   "mimetype": "text/x-python",
   "name": "python",
   "nbconvert_exporter": "python",
   "pygments_lexer": "ipython3",
   "version": "3.7.10"
  }
 },
 "nbformat": 4,
 "nbformat_minor": 1
}
