{
 "cells": [
  {
   "cell_type": "markdown",
   "metadata": {
    "collapsed": true
   },
   "source": [
    "## Problem Set I: Identifying the Top Complaint Type\n",
    "### Research Question: Which type of complaint should the Department of Housing Preservation and Development of New York City focus on first?\n",
    "By: Dillon Morley"
   ]
  },
  {
   "cell_type": "code",
   "execution_count": 38,
   "metadata": {},
   "outputs": [],
   "source": [
    "#Import our libraries and our NYC 311 Dataset\n",
    "import os, types\n",
    "import pandas as pd\n",
    "from botocore.client import Config\n",
    "import ibm_boto3\n",
    "\n",
    "def __iter__(self): return 0\n",
    "\n",
    "if os.environ.get('RUNTIME_ENV_LOCATION_TYPE') == 'external':\n",
    "    endpoint_256cc9b3022041aeadc6f49afe94561b = 'https://s3.eu-geo.objectstorage.softlayer.net'\n",
    "else:\n",
    "    endpoint_256cc9b3022041aeadc6f49afe94561b = 'https://s3.eu-geo.objectstorage.service.networklayer.com'\n",
    "\n",
    "credentials_6 = {\n",
    "    'IAM_SERVICE_ID': 'iam-ServiceId-3694aee8-51b9-4378-9696-1f978606f465',\n",
    "    'IBM_API_KEY_ID': 'YvikRX53gzO8fvVreirDv5kHBltvbjmlUf5OWEVD7aSn',\n",
    "    'ENDPOINT': 'https://s3.eu-geo.objectstorage.service.networklayer.com',\n",
    "    'IBM_AUTH_ENDPOINT': 'https://iam.cloud.ibm.com/oidc/token',\n",
    "    'BUCKET': 'ibmpythondatasciencecapstone-donotdelete-pr-8kcbvnietwxfim',\n",
    "    'FILE': '311_Service_Requests_from_2010_to_Present_min.csv'\n",
    "}\n",
    "body = client_256cc9b3022041aeadc6f49afe94561b.get_object(Bucket='ibmpythondatasciencecapstone-donotdelete-pr-8kcbvnietwxfim',Key='311_Service_Requests_from_2010_to_Present_min.csv')['Body']\n",
    "# add missing __iter__ method, so pandas accepts body as file-like object\n",
    "if not hasattr(body, \"__iter__\"): body.__iter__ = types.MethodType( __iter__, body )\n",
    "\n",
    "bucket= 'ibmpythondatasciencecapstone-donotdelete-pr-8kcbvnietwxfim'\n",
    "df_data_6.to_pickle('./df_raw.pkl')\n",
    "client_cred = client_256cc9b3022041aeadc6f49afe94561b\n",
    "client_cred.upload_file('./df_raw.pkl',bucket,'df_raw_cos.pkl')\n",
    "\n",
    "client_cred.download_file(Bucket=bucket,Key='df_raw_cos.pkl',Filename='./df_raw_local.pkl')\n",
    "service_requests = pd.read_pickle('./df_raw_local.pkl')"
   ]
  },
  {
   "cell_type": "markdown",
   "metadata": {},
   "source": [
    "### Question 1: What is the total number of complaints that exist in the dataset?"
   ]
  },
  {
   "cell_type": "code",
   "execution_count": 39,
   "metadata": {},
   "outputs": [
    {
     "name": "stdout",
     "output_type": "stream",
     "text": [
      "There are: 6019843 complaints in this dataset\n"
     ]
    }
   ],
   "source": [
    "print('There are:',service_requests.shape[0],'complaints in this dataset')"
   ]
  },
  {
   "cell_type": "markdown",
   "metadata": {},
   "source": [
    "### Question 2: How many different Complaint Types can you find in the dataset, including duplicates entries of the same type?"
   ]
  },
  {
   "cell_type": "code",
   "execution_count": 40,
   "metadata": {},
   "outputs": [
    {
     "name": "stdout",
     "output_type": "stream",
     "text": [
      "There are: 30 different complaint types in the dataset.\n",
      "['HEAT/HOT WATER', 'UNSANITARY CONDITION', 'APPLIANCE', 'GENERAL', 'ELECTRIC', 'PLUMBING', 'PAINT/PLASTER', 'WATER LEAK', 'SAFETY', 'DOOR/WINDOW', 'OUTSIDE BUILDING', 'ELEVATOR', 'FLOORING/STAIRS', 'Unsanitary Condition', 'HPD Literature Request', 'HEATING', 'PAINT - PLASTER', 'Safety', 'Electric', 'General', 'Appliance', 'GENERAL CONSTRUCTION', 'NONCONST', 'CONSTRUCTION', 'AGENCY', 'STRUCTURAL', 'VACANT APARTMENT', 'Outside Building', 'Plumbing', 'Mold']\n"
     ]
    }
   ],
   "source": [
    "complaints = list(service_requests['Complaint Type'].unique())\n",
    "print('There are:',len(complaints), 'different complaint types in the dataset.')\n",
    "print(complaints)"
   ]
  },
  {
   "cell_type": "markdown",
   "metadata": {},
   "source": [
    "### Issue With our Complaint Types\n",
    "As you can see in the list above, there are formatting issues with our complaint type. There are duplicates types due to formatting mistakes, so we must fix those before moving forward."
   ]
  },
  {
   "cell_type": "code",
   "execution_count": 41,
   "metadata": {},
   "outputs": [
    {
     "name": "stdout",
     "output_type": "stream",
     "text": [
      "These are are updated values for our complaint type column: ['HEAT/HOT WATER' 'UNSANITARY CONDITION' 'APPLIANCE' 'GENERAL' 'ELECTRIC'\n",
      " 'PLUMBING' 'PAINT/PLASTER' 'WATER LEAK' 'SAFETY' 'DOOR/WINDOW'\n",
      " 'OUTSIDE BUILDING' 'ELEVATOR' 'FLOORING/STAIRS' 'HPD LITERATURE REQUEST'\n",
      " 'HEATING' 'GENERAL CONSTRUCTION' 'NONCONST' 'CONSTRUCTION' 'AGENCY'\n",
      " 'STRUCTURAL' 'VACANT APARTMENT' 'MOLD']\n"
     ]
    }
   ],
   "source": [
    "#Function used to change the different column names to a standardized format.\n",
    "def format_dataframe():\n",
    "    service_requests.loc[service_requests['Complaint Type'] == 'PAINT - PLASTER'] = 'PAINT/PLASTER'\n",
    "    service_requests.loc[service_requests['Complaint Type'] == 'Plumbing'] = 'PLUMBING'\n",
    "    service_requests.loc[service_requests['Complaint Type'] == 'Electric'] = 'ELECTRIC'\n",
    "    service_requests.loc[service_requests['Complaint Type'] == 'General'] = 'GENERAL'\n",
    "    service_requests.loc[service_requests['Complaint Type'] == 'Safety'] = 'SAFETY'\n",
    "    service_requests.loc[service_requests['Complaint Type'] == 'Appliance'] = 'APPLIANCE'\n",
    "    service_requests.loc[service_requests['Complaint Type'] == 'Unsanitary Condition'] = 'UNSANITARY CONDITION'\n",
    "    service_requests.loc[service_requests['Complaint Type'] == 'Outside Building'] = 'OUTSIDE BUILDING'\n",
    "    service_requests.loc[service_requests['Complaint Type'] == 'HPD Literature Request'] = 'HPD LITERATURE REQUEST'\n",
    "    service_requests.loc[service_requests['Complaint Type'] == 'Mold'] = 'MOLD'\n",
    "    \n",
    "format_dataframe()\n",
    "\n",
    "print('These are are updated values for our complaint type column:',service_requests['Complaint Type'].unique())"
   ]
  },
  {
   "cell_type": "markdown",
   "metadata": {},
   "source": [
    "### Question 3: How many Elevator complaints can you find in the dataset?"
   ]
  },
  {
   "cell_type": "code",
   "execution_count": 42,
   "metadata": {},
   "outputs": [
    {
     "name": "stdout",
     "output_type": "stream",
     "text": [
      "There are: 6725 elevator complaints in the dataset.\n"
     ]
    },
    {
     "data": {
      "text/html": [
       "<div>\n",
       "<style scoped>\n",
       "    .dataframe tbody tr th:only-of-type {\n",
       "        vertical-align: middle;\n",
       "    }\n",
       "\n",
       "    .dataframe tbody tr th {\n",
       "        vertical-align: top;\n",
       "    }\n",
       "\n",
       "    .dataframe thead th {\n",
       "        text-align: right;\n",
       "    }\n",
       "</style>\n",
       "<table border=\"1\" class=\"dataframe\">\n",
       "  <thead>\n",
       "    <tr style=\"text-align: right;\">\n",
       "      <th></th>\n",
       "      <th>Unnamed: 0</th>\n",
       "      <th>Unique Key</th>\n",
       "      <th>Created Date</th>\n",
       "      <th>Closed Date</th>\n",
       "      <th>Complaint Type</th>\n",
       "      <th>Location Type</th>\n",
       "      <th>Incident Zip</th>\n",
       "      <th>Incident Address</th>\n",
       "      <th>Street Name</th>\n",
       "      <th>Address Type</th>\n",
       "      <th>City</th>\n",
       "      <th>Status</th>\n",
       "      <th>Resolution Description</th>\n",
       "      <th>Borough</th>\n",
       "      <th>Latitude</th>\n",
       "      <th>Longitude</th>\n",
       "    </tr>\n",
       "  </thead>\n",
       "  <tbody>\n",
       "    <tr>\n",
       "      <th>118</th>\n",
       "      <td>118</td>\n",
       "      <td>45528359</td>\n",
       "      <td>02/02/2020 02:30:35 PM</td>\n",
       "      <td>NaN</td>\n",
       "      <td>ELEVATOR</td>\n",
       "      <td>RESIDENTIAL BUILDING</td>\n",
       "      <td>11229</td>\n",
       "      <td>1862 EAST   14 STREET</td>\n",
       "      <td>EAST   14 STREET</td>\n",
       "      <td>ADDRESS</td>\n",
       "      <td>BROOKLYN</td>\n",
       "      <td>Open</td>\n",
       "      <td>The following complaint conditions are still o...</td>\n",
       "      <td>BROOKLYN</td>\n",
       "      <td>40.6043</td>\n",
       "      <td>-73.9584</td>\n",
       "    </tr>\n",
       "    <tr>\n",
       "      <th>1627</th>\n",
       "      <td>1627</td>\n",
       "      <td>45484809</td>\n",
       "      <td>01/27/2020 02:15:41 PM</td>\n",
       "      <td>NaN</td>\n",
       "      <td>ELEVATOR</td>\n",
       "      <td>RESIDENTIAL BUILDING</td>\n",
       "      <td>10030</td>\n",
       "      <td>127 WEST  135 STREET</td>\n",
       "      <td>WEST  135 STREET</td>\n",
       "      <td>ADDRESS</td>\n",
       "      <td>NEW YORK</td>\n",
       "      <td>Open</td>\n",
       "      <td>The following complaint conditions are still o...</td>\n",
       "      <td>MANHATTAN</td>\n",
       "      <td>40.8146</td>\n",
       "      <td>-73.942</td>\n",
       "    </tr>\n",
       "    <tr>\n",
       "      <th>2209</th>\n",
       "      <td>2209</td>\n",
       "      <td>45444608</td>\n",
       "      <td>01/22/2020 01:48:30 PM</td>\n",
       "      <td>01/28/2020 09:14:35 PM</td>\n",
       "      <td>ELEVATOR</td>\n",
       "      <td>RESIDENTIAL BUILDING</td>\n",
       "      <td>10031</td>\n",
       "      <td>3341 BROADWAY</td>\n",
       "      <td>BROADWAY</td>\n",
       "      <td>ADDRESS</td>\n",
       "      <td>NEW YORK</td>\n",
       "      <td>Closed</td>\n",
       "      <td>The Department of Housing Preservation and Dev...</td>\n",
       "      <td>MANHATTAN</td>\n",
       "      <td>40.8202</td>\n",
       "      <td>-73.955</td>\n",
       "    </tr>\n",
       "    <tr>\n",
       "      <th>2795</th>\n",
       "      <td>2795</td>\n",
       "      <td>45443417</td>\n",
       "      <td>01/21/2020 02:41:03 PM</td>\n",
       "      <td>NaN</td>\n",
       "      <td>ELEVATOR</td>\n",
       "      <td>RESIDENTIAL BUILDING</td>\n",
       "      <td>10468</td>\n",
       "      <td>2707 CRESTON AVENUE</td>\n",
       "      <td>CRESTON AVENUE</td>\n",
       "      <td>ADDRESS</td>\n",
       "      <td>BRONX</td>\n",
       "      <td>Open</td>\n",
       "      <td>The following complaint conditions are still o...</td>\n",
       "      <td>BRONX</td>\n",
       "      <td>40.868</td>\n",
       "      <td>-73.8945</td>\n",
       "    </tr>\n",
       "    <tr>\n",
       "      <th>3293</th>\n",
       "      <td>3293</td>\n",
       "      <td>45427897</td>\n",
       "      <td>01/19/2020 09:55:55 PM</td>\n",
       "      <td>NaN</td>\n",
       "      <td>ELEVATOR</td>\n",
       "      <td>RESIDENTIAL BUILDING</td>\n",
       "      <td>10467</td>\n",
       "      <td>305 EAST MOSHOLU PARKWAY NORTH</td>\n",
       "      <td>EAST MOSHOLU PARKWAY NORTH</td>\n",
       "      <td>ADDRESS</td>\n",
       "      <td>BRONX</td>\n",
       "      <td>Open</td>\n",
       "      <td>The following complaint conditions are still o...</td>\n",
       "      <td>BRONX</td>\n",
       "      <td>40.8727</td>\n",
       "      <td>-73.8806</td>\n",
       "    </tr>\n",
       "  </tbody>\n",
       "</table>\n",
       "</div>"
      ],
      "text/plain": [
       "     Unnamed: 0 Unique Key            Created Date             Closed Date  \\\n",
       "118         118   45528359  02/02/2020 02:30:35 PM                     NaN   \n",
       "1627       1627   45484809  01/27/2020 02:15:41 PM                     NaN   \n",
       "2209       2209   45444608  01/22/2020 01:48:30 PM  01/28/2020 09:14:35 PM   \n",
       "2795       2795   45443417  01/21/2020 02:41:03 PM                     NaN   \n",
       "3293       3293   45427897  01/19/2020 09:55:55 PM                     NaN   \n",
       "\n",
       "     Complaint Type         Location Type Incident Zip  \\\n",
       "118        ELEVATOR  RESIDENTIAL BUILDING        11229   \n",
       "1627       ELEVATOR  RESIDENTIAL BUILDING        10030   \n",
       "2209       ELEVATOR  RESIDENTIAL BUILDING        10031   \n",
       "2795       ELEVATOR  RESIDENTIAL BUILDING        10468   \n",
       "3293       ELEVATOR  RESIDENTIAL BUILDING        10467   \n",
       "\n",
       "                    Incident Address                 Street Name Address Type  \\\n",
       "118            1862 EAST   14 STREET            EAST   14 STREET      ADDRESS   \n",
       "1627            127 WEST  135 STREET            WEST  135 STREET      ADDRESS   \n",
       "2209                   3341 BROADWAY                    BROADWAY      ADDRESS   \n",
       "2795             2707 CRESTON AVENUE              CRESTON AVENUE      ADDRESS   \n",
       "3293  305 EAST MOSHOLU PARKWAY NORTH  EAST MOSHOLU PARKWAY NORTH      ADDRESS   \n",
       "\n",
       "          City  Status                             Resolution Description  \\\n",
       "118   BROOKLYN    Open  The following complaint conditions are still o...   \n",
       "1627  NEW YORK    Open  The following complaint conditions are still o...   \n",
       "2209  NEW YORK  Closed  The Department of Housing Preservation and Dev...   \n",
       "2795     BRONX    Open  The following complaint conditions are still o...   \n",
       "3293     BRONX    Open  The following complaint conditions are still o...   \n",
       "\n",
       "        Borough Latitude Longitude  \n",
       "118    BROOKLYN  40.6043  -73.9584  \n",
       "1627  MANHATTAN  40.8146   -73.942  \n",
       "2209  MANHATTAN  40.8202   -73.955  \n",
       "2795      BRONX   40.868  -73.8945  \n",
       "3293      BRONX  40.8727  -73.8806  "
      ]
     },
     "execution_count": 42,
     "metadata": {},
     "output_type": "execute_result"
    }
   ],
   "source": [
    "elevator = service_requests.loc[service_requests['Complaint Type']=='ELEVATOR']\n",
    "print('There are:', elevator.shape[0],'elevator complaints in the dataset.')\n",
    "elevator.head()"
   ]
  },
  {
   "cell_type": "markdown",
   "metadata": {},
   "source": [
    "### Question 4: How many Electric complaints can you find in the dataset?"
   ]
  },
  {
   "cell_type": "code",
   "execution_count": 43,
   "metadata": {},
   "outputs": [
    {
     "name": "stdout",
     "output_type": "stream",
     "text": [
      "There are: 307311 electric complaints in the dataset.\n"
     ]
    },
    {
     "data": {
      "text/html": [
       "<div>\n",
       "<style scoped>\n",
       "    .dataframe tbody tr th:only-of-type {\n",
       "        vertical-align: middle;\n",
       "    }\n",
       "\n",
       "    .dataframe tbody tr th {\n",
       "        vertical-align: top;\n",
       "    }\n",
       "\n",
       "    .dataframe thead th {\n",
       "        text-align: right;\n",
       "    }\n",
       "</style>\n",
       "<table border=\"1\" class=\"dataframe\">\n",
       "  <thead>\n",
       "    <tr style=\"text-align: right;\">\n",
       "      <th></th>\n",
       "      <th>Unnamed: 0</th>\n",
       "      <th>Unique Key</th>\n",
       "      <th>Created Date</th>\n",
       "      <th>Closed Date</th>\n",
       "      <th>Complaint Type</th>\n",
       "      <th>Location Type</th>\n",
       "      <th>Incident Zip</th>\n",
       "      <th>Incident Address</th>\n",
       "      <th>Street Name</th>\n",
       "      <th>Address Type</th>\n",
       "      <th>City</th>\n",
       "      <th>Status</th>\n",
       "      <th>Resolution Description</th>\n",
       "      <th>Borough</th>\n",
       "      <th>Latitude</th>\n",
       "      <th>Longitude</th>\n",
       "    </tr>\n",
       "  </thead>\n",
       "  <tbody>\n",
       "    <tr>\n",
       "      <th>8</th>\n",
       "      <td>8</td>\n",
       "      <td>45530238</td>\n",
       "      <td>02/02/2020 11:38:34 AM</td>\n",
       "      <td>NaN</td>\n",
       "      <td>ELECTRIC</td>\n",
       "      <td>RESIDENTIAL BUILDING</td>\n",
       "      <td>11230</td>\n",
       "      <td>679 OCEAN PARKWAY</td>\n",
       "      <td>OCEAN PARKWAY</td>\n",
       "      <td>ADDRESS</td>\n",
       "      <td>BROOKLYN</td>\n",
       "      <td>Open</td>\n",
       "      <td>The following complaint conditions are still o...</td>\n",
       "      <td>BROOKLYN</td>\n",
       "      <td>40.6318</td>\n",
       "      <td>-73.9719</td>\n",
       "    </tr>\n",
       "    <tr>\n",
       "      <th>39</th>\n",
       "      <td>39</td>\n",
       "      <td>45530702</td>\n",
       "      <td>02/02/2020 08:13:14 PM</td>\n",
       "      <td>NaN</td>\n",
       "      <td>ELECTRIC</td>\n",
       "      <td>RESIDENTIAL BUILDING</td>\n",
       "      <td>10456</td>\n",
       "      <td>200 EAST  166 STREET</td>\n",
       "      <td>EAST  166 STREET</td>\n",
       "      <td>ADDRESS</td>\n",
       "      <td>BRONX</td>\n",
       "      <td>Open</td>\n",
       "      <td>The following complaint conditions are still o...</td>\n",
       "      <td>BRONX</td>\n",
       "      <td>40.8314</td>\n",
       "      <td>-73.9182</td>\n",
       "    </tr>\n",
       "    <tr>\n",
       "      <th>43</th>\n",
       "      <td>43</td>\n",
       "      <td>45531534</td>\n",
       "      <td>02/02/2020 09:19:38 PM</td>\n",
       "      <td>NaN</td>\n",
       "      <td>ELECTRIC</td>\n",
       "      <td>RESIDENTIAL BUILDING</td>\n",
       "      <td>10302</td>\n",
       "      <td>93 BOND STREET</td>\n",
       "      <td>BOND STREET</td>\n",
       "      <td>ADDRESS</td>\n",
       "      <td>STATEN ISLAND</td>\n",
       "      <td>Open</td>\n",
       "      <td>The following complaint conditions are still o...</td>\n",
       "      <td>STATEN ISLAND</td>\n",
       "      <td>40.6352</td>\n",
       "      <td>-74.1318</td>\n",
       "    </tr>\n",
       "    <tr>\n",
       "      <th>154</th>\n",
       "      <td>154</td>\n",
       "      <td>45530705</td>\n",
       "      <td>02/02/2020 02:18:27 PM</td>\n",
       "      <td>NaN</td>\n",
       "      <td>ELECTRIC</td>\n",
       "      <td>RESIDENTIAL BUILDING</td>\n",
       "      <td>10033</td>\n",
       "      <td>1361 ST NICHOLAS AVENUE</td>\n",
       "      <td>ST NICHOLAS AVENUE</td>\n",
       "      <td>ADDRESS</td>\n",
       "      <td>NEW YORK</td>\n",
       "      <td>Open</td>\n",
       "      <td>The following complaint conditions are still o...</td>\n",
       "      <td>MANHATTAN</td>\n",
       "      <td>40.8475</td>\n",
       "      <td>-73.9351</td>\n",
       "    </tr>\n",
       "    <tr>\n",
       "      <th>209</th>\n",
       "      <td>209</td>\n",
       "      <td>45532000</td>\n",
       "      <td>02/02/2020 06:36:54 PM</td>\n",
       "      <td>NaN</td>\n",
       "      <td>ELECTRIC</td>\n",
       "      <td>RESIDENTIAL BUILDING</td>\n",
       "      <td>11104</td>\n",
       "      <td>50-21 39 PLACE</td>\n",
       "      <td>39 PLACE</td>\n",
       "      <td>ADDRESS</td>\n",
       "      <td>Sunnyside</td>\n",
       "      <td>Open</td>\n",
       "      <td>The following complaint conditions are still o...</td>\n",
       "      <td>QUEENS</td>\n",
       "      <td>40.7377</td>\n",
       "      <td>-73.9264</td>\n",
       "    </tr>\n",
       "  </tbody>\n",
       "</table>\n",
       "</div>"
      ],
      "text/plain": [
       "    Unnamed: 0 Unique Key            Created Date Closed Date Complaint Type  \\\n",
       "8            8   45530238  02/02/2020 11:38:34 AM         NaN       ELECTRIC   \n",
       "39          39   45530702  02/02/2020 08:13:14 PM         NaN       ELECTRIC   \n",
       "43          43   45531534  02/02/2020 09:19:38 PM         NaN       ELECTRIC   \n",
       "154        154   45530705  02/02/2020 02:18:27 PM         NaN       ELECTRIC   \n",
       "209        209   45532000  02/02/2020 06:36:54 PM         NaN       ELECTRIC   \n",
       "\n",
       "            Location Type Incident Zip         Incident Address  \\\n",
       "8    RESIDENTIAL BUILDING        11230        679 OCEAN PARKWAY   \n",
       "39   RESIDENTIAL BUILDING        10456     200 EAST  166 STREET   \n",
       "43   RESIDENTIAL BUILDING        10302           93 BOND STREET   \n",
       "154  RESIDENTIAL BUILDING        10033  1361 ST NICHOLAS AVENUE   \n",
       "209  RESIDENTIAL BUILDING        11104           50-21 39 PLACE   \n",
       "\n",
       "            Street Name Address Type           City Status  \\\n",
       "8         OCEAN PARKWAY      ADDRESS       BROOKLYN   Open   \n",
       "39     EAST  166 STREET      ADDRESS          BRONX   Open   \n",
       "43          BOND STREET      ADDRESS  STATEN ISLAND   Open   \n",
       "154  ST NICHOLAS AVENUE      ADDRESS       NEW YORK   Open   \n",
       "209            39 PLACE      ADDRESS      Sunnyside   Open   \n",
       "\n",
       "                                Resolution Description        Borough  \\\n",
       "8    The following complaint conditions are still o...       BROOKLYN   \n",
       "39   The following complaint conditions are still o...          BRONX   \n",
       "43   The following complaint conditions are still o...  STATEN ISLAND   \n",
       "154  The following complaint conditions are still o...      MANHATTAN   \n",
       "209  The following complaint conditions are still o...         QUEENS   \n",
       "\n",
       "    Latitude Longitude  \n",
       "8    40.6318  -73.9719  \n",
       "39   40.8314  -73.9182  \n",
       "43   40.6352  -74.1318  \n",
       "154  40.8475  -73.9351  \n",
       "209  40.7377  -73.9264  "
      ]
     },
     "execution_count": 43,
     "metadata": {},
     "output_type": "execute_result"
    }
   ],
   "source": [
    "electric = service_requests.loc[service_requests['Complaint Type']=='ELECTRIC']\n",
    "print('There are:', electric.shape[0],'electric complaints in the dataset.')\n",
    "electric.head()"
   ]
  },
  {
   "cell_type": "markdown",
   "metadata": {},
   "source": [
    "### Question 5: Using 800,000 as a threshold, what complaint type(s) do you recommend the Department of Housing Preservation and Development of New York City address first?"
   ]
  },
  {
   "cell_type": "code",
   "execution_count": 48,
   "metadata": {},
   "outputs": [
    {
     "name": "stdout",
     "output_type": "stream",
     "text": [
      "HEAT/HOT WATER    1261574\n",
      "HEATING            887850\n",
      "Name: Complaint Type, dtype: int64\n"
     ]
    }
   ],
   "source": [
    "threshold = 800000\n",
    "complaint_types = service_requests['Complaint Type'].value_counts()\n",
    "threshold_df = (complaint_types[(complaint_types>threshold)])\n",
    "print(threshold_df)"
   ]
  },
  {
   "cell_type": "markdown",
   "metadata": {},
   "source": [
    "The Department of Housing Preservation and Development of New York City should first address complaints pertaining to both 'Heat/Hot Water' and 'Heating.'"
   ]
  }
 ],
 "metadata": {
  "kernelspec": {
   "display_name": "Python 3.7",
   "language": "python",
   "name": "python3"
  },
  "language_info": {
   "codemirror_mode": {
    "name": "ipython",
    "version": 3
   },
   "file_extension": ".py",
   "mimetype": "text/x-python",
   "name": "python",
   "nbconvert_exporter": "python",
   "pygments_lexer": "ipython3",
   "version": "3.7.10"
  }
 },
 "nbformat": 4,
 "nbformat_minor": 1
}
